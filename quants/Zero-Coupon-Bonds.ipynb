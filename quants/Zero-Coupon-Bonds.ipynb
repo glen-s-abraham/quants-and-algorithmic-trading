{
 "cells": [
  {
   "cell_type": "code",
   "execution_count": 5,
   "id": "906f7029-a7b7-4d7a-ab75-8f5a363c8466",
   "metadata": {},
   "outputs": [],
   "source": [
    "class ZeroCouponBond:\n",
    "    def __init__(self,principal,maturity,market_interest_rate):\n",
    "        self.principal = principal\n",
    "        self.maturity = maturity\n",
    "        self.interest_rate = (market_interest_rate/100)\n",
    "\n",
    "    def get_present_value(self,x,n):\n",
    "        return x/(1+self.interest_rate)**n\n",
    "\n",
    "    def calculate_price(self):\n",
    "        return self.get_present_value(self.principal,self.maturity)\n",
    "    "
   ]
  },
  {
   "cell_type": "code",
   "execution_count": 2,
   "id": "21e2b438-661a-42ad-b3d3-22fd00354aa9",
   "metadata": {},
   "outputs": [],
   "source": [
    "zero_coupon = ZeroCouponBond(1000,2,4)"
   ]
  },
  {
   "cell_type": "code",
   "execution_count": 4,
   "id": "bb5ef015-0923-431c-953b-47127bd5027e",
   "metadata": {},
   "outputs": [
    {
     "data": {
      "text/plain": [
       "924.5562130177514"
      ]
     },
     "execution_count": 4,
     "metadata": {},
     "output_type": "execute_result"
    }
   ],
   "source": [
    "zero_coupon.calculate_price()"
   ]
  },
  {
   "cell_type": "code",
   "execution_count": 12,
   "id": "5de83042-dd0b-4921-af2a-01f6c699cbce",
   "metadata": {},
   "outputs": [],
   "source": [
    "class CouponBond:\n",
    "    def __init__(self,principal,rate,maturity,market_interest_rate):\n",
    "        self.principal = principal\n",
    "        self.maturity = maturity\n",
    "        self.rate = (rate/100)\n",
    "        self.interest_rate = (market_interest_rate/100)\n",
    "\n",
    "    def get_present_value(self,x,n):\n",
    "        return x/(1+self.interest_rate)**n\n",
    "\n",
    "    def calculate_price(self):\n",
    "        price = 0\n",
    "        # discount coupon payements\n",
    "        for t in (1,self.maturity+1):\n",
    "            price = price+ self.get_present_value(self.principal*self.rate,t)\n",
    "        #discount principle amount\n",
    "        price = price+ self.get_present_value(self.principal,self.maturity)\n",
    "        return price\n",
    "    "
   ]
  },
  {
   "cell_type": "code",
   "execution_count": 15,
   "id": "4914fc90-f8e6-4008-8d93-c593d1734024",
   "metadata": {},
   "outputs": [
    {
     "data": {
      "text/plain": [
       "113947.27249712369"
      ]
     },
     "execution_count": 15,
     "metadata": {},
     "output_type": "execute_result"
    }
   ],
   "source": [
    "coupon = CouponBond(100000,10.5,1.16,5)\n",
    "coupon.calculate_price()"
   ]
  }
 ],
 "metadata": {
  "kernelspec": {
   "display_name": "Python 3 (ipykernel)",
   "language": "python",
   "name": "python3"
  },
  "language_info": {
   "codemirror_mode": {
    "name": "ipython",
    "version": 3
   },
   "file_extension": ".py",
   "mimetype": "text/x-python",
   "name": "python",
   "nbconvert_exporter": "python",
   "pygments_lexer": "ipython3",
   "version": "3.10.12"
  }
 },
 "nbformat": 4,
 "nbformat_minor": 5
}
