{
 "cells": [
  {
   "cell_type": "code",
   "execution_count": 1,
   "id": "3b8055b4-c642-4580-95e3-860117932ecb",
   "metadata": {},
   "outputs": [],
   "source": [
    "from math import exp"
   ]
  },
  {
   "cell_type": "code",
   "execution_count": 4,
   "id": "0ed65012-79ae-4bb2-83c5-ffa55ffa2935",
   "metadata": {},
   "outputs": [],
   "source": [
    "def calculate_discrete_future_value(x,r,n):\n",
    "    return x*(1+r)**n"
   ]
  },
  {
   "cell_type": "code",
   "execution_count": 30,
   "id": "9dd414d3-02d2-4ade-82a1-e6a1f7143390",
   "metadata": {},
   "outputs": [],
   "source": [
    "def calculate_discrete_present_value(x,r,n):\n",
    "    return x*(1+r)**-n"
   ]
  },
  {
   "cell_type": "code",
   "execution_count": 19,
   "id": "cefe3c36-d3a0-4e35-8cc1-41d07a76c6ab",
   "metadata": {},
   "outputs": [],
   "source": [
    "def calculate_continuous_future_value(x,r,t):\n",
    "    return x*exp(r*t)"
   ]
  },
  {
   "cell_type": "code",
   "execution_count": 9,
   "id": "1f164f6b-0f10-4dc3-b2d6-215c2e81f816",
   "metadata": {},
   "outputs": [],
   "source": [
    "def calculate_continuous_present_value(x,r,t):\n",
    "    return x*exp(-r*t)"
   ]
  },
  {
   "cell_type": "code",
   "execution_count": 14,
   "id": "33c5bad3-11af-4461-85f8-ddb8aaa11ba2",
   "metadata": {},
   "outputs": [],
   "source": [
    "present_money = 100\n",
    "roi = 0.05\n",
    "period=5"
   ]
  },
  {
   "cell_type": "code",
   "execution_count": 24,
   "id": "5ab40e8e-9345-454a-8113-62f22e54805a",
   "metadata": {},
   "outputs": [
    {
     "data": {
      "text/plain": [
       "127.62815625000003"
      ]
     },
     "execution_count": 24,
     "metadata": {},
     "output_type": "execute_result"
    }
   ],
   "source": [
    "calc_discrete_future_value(present_money,roi,period)"
   ]
  },
  {
   "cell_type": "code",
   "execution_count": 31,
   "id": "9f422f2a-3751-417e-8961-2c24a05c3bfc",
   "metadata": {},
   "outputs": [
    {
     "data": {
      "text/plain": [
       "78.35261664684589"
      ]
     },
     "execution_count": 31,
     "metadata": {},
     "output_type": "execute_result"
    }
   ],
   "source": [
    "calculate_discrete_present_value(present_money,roi,period)"
   ]
  },
  {
   "cell_type": "code",
   "execution_count": 32,
   "id": "67ed4912-b3e3-45d1-80d0-7d2413b7911e",
   "metadata": {},
   "outputs": [
    {
     "data": {
      "text/plain": [
       "128.40254166877415"
      ]
     },
     "execution_count": 32,
     "metadata": {},
     "output_type": "execute_result"
    }
   ],
   "source": [
    "calculate_continuous_future_value(present_money,roi,period)"
   ]
  },
  {
   "cell_type": "code",
   "execution_count": 33,
   "id": "089847ca-3646-41c4-beaa-9f8bf393b2a9",
   "metadata": {},
   "outputs": [
    {
     "data": {
      "text/plain": [
       "77.8800783071405"
      ]
     },
     "execution_count": 33,
     "metadata": {},
     "output_type": "execute_result"
    }
   ],
   "source": [
    "calculate_continuous_present_value(present_money,roi,period)"
   ]
  }
 ],
 "metadata": {
  "kernelspec": {
   "display_name": "Python 3 (ipykernel)",
   "language": "python",
   "name": "python3"
  },
  "language_info": {
   "codemirror_mode": {
    "name": "ipython",
    "version": 3
   },
   "file_extension": ".py",
   "mimetype": "text/x-python",
   "name": "python",
   "nbconvert_exporter": "python",
   "pygments_lexer": "ipython3",
   "version": "3.10.12"
  }
 },
 "nbformat": 4,
 "nbformat_minor": 5
}
