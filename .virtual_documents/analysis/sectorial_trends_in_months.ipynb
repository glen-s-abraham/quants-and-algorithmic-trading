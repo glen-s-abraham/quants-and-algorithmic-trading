import os
import yfinance as yf
import openai
import pandas as pd
from dotenv import load_dotenv,find_dotenv


os.environ


openai.api_key = os.environ['OPENAI_API_KEY']


sectors = [
    '^NSEBANK',
    '^CNXAUTO',
    '^CNXFMCG',
    '^CNXPHARMA',
    '^CNXIT',
    '^CNXINFRA',
    '^CNXMETAL',
    '^CNXENERGY'
]


AUTO =  yf.download(tickers='^CNXAUTO', period='5y',interval='1mo')
FMCG = yf.download(tickers='^CNXFMCG', period='5y',interval='1mo')
df = pd.D
df['AUTO'] = AUTO['Volume']
df['FMCG'] = FMCG['Volume']
df = df.reset_index()


import matplotlib.pyplot as plt

# Create a Matplotlib figure and axis
plt.figure(figsize=(12, 6))
#plt.plot(df['Date'], df['Volume'], marker='o', linestyle='-', color='b', label='Volume')
plt.semilogy(df['Date'], df['Volume'], marker='o', linestyle='-', color='b', label='Volume (log scale)')

# Set labels and title
plt.xlabel('Date')
plt.ylabel('Volume')
plt.title('Volume Distribution Over Time')

# Customize x-axis labels for better readability
plt.xticks(df['Date'], df['Date'].dt.strftime('%b %Y'), rotation=90)

# Show a legend
plt.legend()

# Display the plot
plt.tight_layout()
plt.grid(True)
plt.show()
