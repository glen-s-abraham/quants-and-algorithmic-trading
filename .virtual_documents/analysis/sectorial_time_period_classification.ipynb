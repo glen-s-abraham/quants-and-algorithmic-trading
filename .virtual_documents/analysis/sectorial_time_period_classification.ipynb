import yfinance as yf
import pandas as pd
import matplotlib.pyplot as plt
import numpy as np
from datetime import datetime


index = '^CNXIT'
start = '2020-10-01'
end = '2023-10-01'
index_data = yf.download(index,start=start,end=end,interval='1mo')


df = pd.DataFrame()
df['Close']=index_data['Close']
df.reset_index(inplace=True)
df['Month'] = pd.DatetimeIndex(df['Date']).month
df['Month'] = df['Month'].apply(lambda x: datetime(2022, x, 1).strftime('%B'))
df['Year'] = pd.DatetimeIndex(df['Date']).year
df['Direction'] = (df['Close'] > df['Close'].shift(1)).map({True: 1, False: 0})
df.head(20)


mo_order = df.iloc[:12,2].values


del(df['Date'])
del(df['Close'])
del(df['Year'])
df.head()


X = df.iloc[:,:-1].values
Y= df.iloc[:,-1].values


Y = Y.reshape(-1,1)


from sklearn.compose import ColumnTransformer
from sklearn.preprocessing import OneHotEncoder
#apply onehot encoding to column 1 to transform categorical data into a numeric value
encoder = OneHotEncoder(sparse=False, drop='first')
ct = ColumnTransformer(transformers=[('encoder',encoder,[0])],remainder='passthrough')
X=np.array(ct.fit_transform(X))


# Splitting the dataset into the Training set and Test set
from sklearn.model_selection import train_test_split
X_train, X_test, y_train, y_test = train_test_split(X, Y, test_size = 0.25, random_state = 0)


# Training the Logistic Regression model on the Training set
from sklearn.linear_model import LogisticRegression
classifier = LogisticRegression(random_state = 0)
classifier.fit(X_train, y_train)


from sklearn.metrics import confusion_matrix, accuracy_score
y_pred = classifier.predict(X_test)
cm = confusion_matrix(y_test, y_pred)
print(cm)
accuracy_score(y_test, y_pred)


pred = classifier.predict(ct.fit_transform(X[:12,:]))
print(np.concatenate((mo_order.reshape(len(mo_order),1), pred.reshape(len(pred),1)),1))


from statsmodels.tsa.seasonal import seasonal_decompose
import matplotlib.pyplot as plt

# Perform seasonal decomposition
decomposition = seasonal_decompose(index_data['Close'], model='additive', period=12)
# 'model' can be 'additive' or 'multiplicative', depending on your data
x_ticks = pd.date_range(start=start, end=end, freq='M')
plt.xticks(x_ticks, rotation=45)
decomposition.seasonal.plot(figsize=(20,10),xticks=x_ticks)



# Plot the decomposed components
plt.figure(figsize=(20, 8))
plt.subplot(411)
plt.plot(index_data['Close'], label='Original Data')
plt.legend(loc='upper left')
plt.subplot(412)
plt.plot(decomposition.trend, label='Trend')
plt.legend(loc='upper left')
plt.subplot(413)
plt.plot(decomposition.seasonal, label='Seasonal')
plt.legend(loc='upper left')
plt.subplot(414)
plt.plot(decomposition.resid, label='Residuals')
plt.legend(loc='upper left')
plt.tight_layout()
plt.show()

