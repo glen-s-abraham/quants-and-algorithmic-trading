class ZeroCouponBond:
    def __init__(self,principal,maturity,interest_rate):
        self.principal = principal
        self.maturity = maturity
        self.interest_rate = (interest_rate/100)

    def get_present_value(self,x,n):
        return x/(1+self.interest_rate)**n

    def calculate_price(self):
        return self.get_present_value(self.principal,self.maturity)
    


zero_coupon = ZeroCouponBond(1000,2,4)


zero_coupon_bond.calculate_price()
