import numpy as np
import pandas as pd
import yfinance as yf
import matplotlib.pyplot as plt
import scipy.optimize as optimization


NUM_TRADING_DAYS = 252


def download_data(ticker,start_date,end_date):
    ticker = yf.Ticker(ticker)
    historic_data = ticker.history(start=start_date,end=end_date)['Close']
    return historic_data


def visualize_dataset(dataset):
    dataset.plot(figsize=(10,5))
    plt.show()


#logarithmic returns are prefered for normalization of the data
def calculate_logarithmic_returns(dataset):
    log_return = np.log(dataset/dataset.shift(1))
    #first rows turn into NaN values after computation,thus returning from second row onwards.
    return log_return[1:]


def print_stats_for_data(dataset):
    print(f'Mean: {dataset.mean()*NUM_TRADING_DAYS}')
    print(f'Covariance: {dataset.cov()*NUM_TRADING_DAYS}')


#calculate the expected mean for the portfolio.with allocated wights for each constituent
def print_mean_variance_for_data(dataset,weights):
    portfolio_returns = np.sum(dataset.mean()*weights)*NUM_TRADING_DAYS
    portfolio_volatility = np.sqrt(np.dot(weights.T,np.dot(dataset.cov()*NUM_TRADING_DAYS,weights)))
    print(f'Expected returns: {portfolio_returns}')
    print(f'Portfolio Volatility: {portfolio_volatility}')


start_date = '2018-01-01'
end_date = '2023-01-01'
stocks = ['TATAMOTORS.NS','SBIN.NS','ITC.NS','OFSS.NS','BHARTIARTL.NS']
stock_data = {}
for stock in stocks:
    stock_data[stock] = download_data(stock,start_date,end_date)


df = pd.DataFrame(stock_data)


visualize_dataset(df)


log_daily_returns = calculate_logarithmic_returns(df)


visualize_dataset(log_daily_returns)


print_stats_for_data(log_daily_returns)


print_mean_variance_for_data(log_daily_returns,np.array([0.25,0.25,0.15,0.15,0.20]))
