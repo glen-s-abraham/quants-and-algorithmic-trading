from math import exp


def calculate_discrete_future_value(x,r,n):
    return x*(1+r)**n


def calculate_discrete_present_value(x,r,n):
    return x*(1+r)**-n


def calculate_continuous_future_value(x,r,t):
    return x*exp(r*t)


def calculate_continuous_present_value(x,r,t):
    return x*exp(-r*t)


present_money = 100
roi = 0.05
period=5


calc_discrete_future_value(present_money,roi,period)


calculate_discrete_present_value(present_money,roi,period)


calculate_continuous_future_value(present_money,roi,period)


calculate_continuous_present_value(present_money,roi,period)
