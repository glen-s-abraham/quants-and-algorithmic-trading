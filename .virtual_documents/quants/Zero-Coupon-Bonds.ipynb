class ZeroCouponBond:
    def __init__(self,principal,maturity,market_interest_rate):
        self.principal = principal
        self.maturity = maturity
        self.interest_rate = (market_interest_rate/100)

    def get_present_value(self,x,n):
        return x/(1+self.interest_rate)**n

    def calculate_price(self):
        return self.get_present_value(self.principal,self.maturity)
    


zero_coupon = ZeroCouponBond(1000,2,4)


zero_coupon.calculate_price()


class CouponBond:
    def __init__(self,principal,rate,maturity,market_interest_rate):
        self.principal = principal
        self.maturity = maturity
        self.rate = (rate/100)
        self.interest_rate = (market_interest_rate/100)

    def get_present_value(self,x,n):
        return x/(1+self.interest_rate)**n

    def calculate_price(self):
        price = 0
        # discount coupon payements
        for t in (1,self.maturity+1):
            price = price+ self.get_present_value(self.principal*self.rate,t)
        #discount principle amount
        price = price+ self.get_present_value(self.principal,self.maturity)
        return price
    


coupon = CouponBond(100000,10.5,1.16,5)
coupon.calculate_price()
