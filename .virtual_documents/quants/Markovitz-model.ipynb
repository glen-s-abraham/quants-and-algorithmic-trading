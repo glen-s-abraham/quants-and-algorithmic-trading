import numpy as np
import pandas as pd
import yfinance as yf
import matplotlib.pyplot as plt
import scipy.optimize as optimization


NUM_TRADING_DAYS = 252
NUM_PORTFOLIOS = 10000


def download_data(ticker,start_date,end_date):
    ticker = yf.Ticker(ticker)
    historic_data = ticker.history(start=start_date,end=end_date)['Close']
    return historic_data


def visualize_dataset(dataset):
    dataset.plot(figsize=(10,5))
    plt.show()


#logarithmic returns are prefered for normalization of the data
def calculate_logarithmic_returns(dataset):
    log_return = np.log(dataset/dataset.shift(1))
    #first rows turn into NaN values after computation,thus returning from second row onwards.
    return log_return[1:]


def print_stats_for_data(dataset):
    print(f'Mean: {dataset.mean()*NUM_TRADING_DAYS}')
    print(f'Covariance: {dataset.cov()*NUM_TRADING_DAYS}')


#calculate the expected mean for the portfolio.with allocated wights for each constituent
def print_mean_variance_for_data(dataset,weights):
    portfolio_returns = np.sum(dataset.mean()*weights)*NUM_TRADING_DAYS
    portfolio_volatility = np.sqrt(np.dot(weights.T,np.dot(dataset.cov()*NUM_TRADING_DAYS,weights)))
    print(f'Expected returns: {portfolio_returns}')
    print(f'Portfolio Volatility: {portfolio_volatility}')


def calculate_portfolios_stats(dataset,weights):
    portfolio_returns = np.sum(dataset.mean()*weights)*NUM_TRADING_DAYS
    portfolio_volatility = np.sqrt(np.dot(weights.T,np.dot(dataset.cov()*NUM_TRADING_DAYS,weights)))
    return np.array([portfolio_returns,portfolio_volatility,portfolio_returns/portfolio_volatility])


#scipy optimize module can find the minimum of a given function
#the maximum of a f(x) is the minimum of -f(x)
def minimise_sharpe_ratio(weights,dataset):
    return -calculate_portfolios_stats(dataset,weights)[2]


#f(x)=0 this is the function to minimize
def optimize_portfolio(dataset,weights,num_of_stocks):
    # the sum of the edge weights should be equal to 1
    constraints = {'type':'eq','fun':lambda x:np.sum(x)-1}
    # the weights can be 1 at most: 1 when 100% of the money is invested into a single stock
    bounds = tuple((0,1)for _ in range(num_of_stocks))
    optimal_portfolio=optimization.minimize(fun=minimise_sharpe_ratio,x0=weights[0],args=dataset,method='SLSQP',bounds=bounds,constraints=constraints)
    return optimal_portfolio


def print_optimal_portfolio(averages,portfolio):
    print('Optimal portfolio',portfolio['x'].round(4))
    print('Expected returns,volatility and Sharpe ratio: ',calculate_portfolios_stats(averages,portfolio['x'].round(3)))


def plot_optimal_portfolio(opt, rets, portfolio_rets, portfolio_vols):
    plt.figure(figsize=(10, 6))
    plt.scatter(portfolio_vols, portfolio_rets, c=portfolio_rets / portfolio_vols, marker='o')
    plt.grid(True)
    plt.xlabel('Expected Volatility')
    plt.ylabel('Expected Return')
    plt.colorbar(label='Sharpe Ratio')
    plt.plot(calculate_portfolios_stats(rets,opt['x'])[1], calculate_portfolios_stats(rets,opt['x'])[0], 'g*', markersize=20.0)
    plt.show()


def generate_random_portfolios(dataset,number_of_stocks):
    portfolio_means = []
    portfolio_risks = []
    portfolio_weights = []
    for _ in range(NUM_PORTFOLIOS):
        weights = np.random.random(number_of_stocks)
        #normalize weights for sum to result in 1
        weights/=np.sum(weights)
        portfolio_weights.append(weights)
        portfolio_returns = np.sum(dataset.mean()*weights)*NUM_TRADING_DAYS
        portfolio_means.append(portfolio_returns)
        portfolio_volatility = np.sqrt(np.dot(weights.T,np.dot(dataset.cov()*NUM_TRADING_DAYS,weights)))
        portfolio_risks.append(portfolio_volatility)
    return np.array(portfolio_weights),np.array(portfolio_means),np.array(portfolio_risks)


def plot_portfolios(means,volatilities):
    plt.figure(figsize=(10,6))
    plt.scatter(volatilities,means,c=means/volatilities,marker='o')
    plt.grid(True)
    plt.xlabel('Expected Volatility')
    plt.ylabel('Expected Returns')
    plt.colorbar(label='Sharpe Ratio')
    plt.show()


start_date = '2018-01-01'
end_date = '2023-01-01'
stocks = ['TATAMOTORS.NS','SBIN.NS','ITC.NS','OFSS.NS','BHARTIARTL.NS']
stock_data = {}
for stock in stocks:
    stock_data[stock] = download_data(stock,start_date,end_date)


df = pd.DataFrame(stock_data)


visualize_dataset(df)


log_daily_returns = calculate_logarithmic_returns(df)


visualize_dataset(log_daily_returns)


print_stats_for_data(log_daily_returns)


print_mean_variance_for_data(log_daily_returns,np.array([0.25,0.25,0.15,0.15,0.20]))


weights,means,risks = generate_random_portfolios(log_daily_returns,len(stocks))


plot_portfolios(means,risks)


optimal_portfolio = optimize_portfolio(log_daily_returns,weights,len(stocks))


print_optimal_portfolio(log_daily_returns,optimal_portfolio)


plot_optimal_portfolio(optimal_portfolio,log_daily_returns,means,risks)
